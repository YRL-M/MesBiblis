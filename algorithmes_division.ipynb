{
 "cells": [
  {
   "cell_type": "markdown",
   "id": "65cea255",
   "metadata": {},
   "source": [
    "# 📘 Algorithmes de Division en Python\n",
    "Ce notebook illustre deux fonctions liées à la division en base 10 : `division` (accélérée) et `division_longue` (étapes détaillées)."
   ]
  },
  {
   "cell_type": "markdown",
   "id": "72b707f3",
   "metadata": {},
   "source": [
    "## ⚙️ Fonction `division(D, d)`\n",
    "\n",
    "Cette fonction implémente une division rapide en base 10 en s'inspirant de la **division manuelle**, mais en soustrayant des multiples de plus en plus grands du diviseur.\n",
    "\n",
    "Elle est plus rapide que la méthode naïve (qui enlève `d` un par un), surtout pour les grands nombres.\n",
    "\n",
    "🔗 *Voir aussi :* [Division euclidienne - Wikipédia](https://fr.wikipedia.org/wiki/Division_euclidienne)\n",
    "\n",
    "### 🧮 Formule mathématique\n",
    "$$\n",
    "D = d \\times q + r \\quad \\text{où } 0 \\leq r < d\n",
    "$$\n"
   ]
  },
  {
   "cell_type": "code",
   "execution_count": null,
   "id": "0cf8d7ff",
   "metadata": {},
   "outputs": [],
   "source": [
    "def division(D, d):\n",
    "    q, r = 0, D\n",
    "    while r >= d:\n",
    "        m = d\n",
    "        p = 1\n",
    "\n",
    "        while r >= m:\n",
    "            m *= 10\n",
    "            p *= 10\n",
    "\n",
    "        r -= m // 10  # d\n",
    "        q += p // 10  # 1\n",
    "    return q, r\n"
   ]
  },
  {
   "cell_type": "code",
   "execution_count": null,
   "id": "6a46da2a",
   "metadata": {},
   "outputs": [],
   "source": [
    "# Exemple d'utilisation\n",
    "D, d = 70000000000, 7\n",
    "q, r = division(D, d)\n",
    "print(f\"Résultat de division({D}, {d}) : quotient = {q}, reste = {r}\")\n"
   ]
  },
  {
   "cell_type": "markdown",
   "id": "d2bf6523",
   "metadata": {},
   "source": [
    "![Division illustration](https://upload.wikimedia.org/wikipedia/commons/thumb/2/2c/Long_division_example.svg/600px-Long_division_example.svg.png)"
   ]
  },
  {
   "cell_type": "markdown",
   "id": "653d9446",
   "metadata": {},
   "source": [
    "## 📝 Fonction `division_longue(D, d, p)`\n",
    "\n",
    "Cette fonction affiche pas à pas les étapes d'une **division posée à la main**.  \n",
    "Elle utilise la fonction `division` pour chaque étape et montre comment le reste évolue.\n",
    "\n",
    "🔗 *Voir aussi :* [Division posée - Wikipédia](https://fr.wikipedia.org/wiki/Division_pos%C3%A9e)\n",
    "\n",
    "### 🧮 Formule mathématique\n",
    "À chaque étape, on applique :\n",
    "$$\n",
    "r_{i+1} = 10 \\times (r_i - d \\times q_i)\n",
    "$$\n",
    "Jusqu’à obtenir un reste nul ou atteindre `p` étapes.\n"
   ]
  },
  {
   "cell_type": "code",
   "execution_count": null,
   "id": "f30c2af7",
   "metadata": {},
   "outputs": [],
   "source": [
    "def division_longue(D:int, d:int, p:int):\n",
    "    \"\"\"A partir d'un couple Dividende diviseur : (D, d)\n",
    "    On print les étapes d'une division \n",
    "    effectuée à la main sur p étapes\n",
    "    \"\"\"\n",
    "\n",
    "    r = D                # travail sur r local plutôt que l'argument D\n",
    "    print( str(D).ljust(10) + str(d).rjust(5) + \"\\n---------------\" )\n",
    "\n",
    "    for _ in range( p ) :\n",
    "        (q, r) = division(r, d)\n",
    "\n",
    "        if (r, q) == (0, 0) :\n",
    "            break\n",
    "            \n",
    "        print(str(r).ljust(10) + str(q).rjust(5) )\n",
    "        r *= 10\n"
   ]
  },
  {
   "cell_type": "code",
   "execution_count": null,
   "id": "d6dec1f8",
   "metadata": {},
   "outputs": [],
   "source": [
    "# Exemple\n",
    "division_longue(123456, 4, 10)"
   ]
  }
 ],
 "metadata": {},
 "nbformat": 4,
 "nbformat_minor": 5
}
